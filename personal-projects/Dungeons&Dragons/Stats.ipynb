{
 "cells": [
  {
   "cell_type": "code",
   "execution_count": 14,
   "metadata": {},
   "outputs": [],
   "source": [
    "players_weapons_spells = {\n",
    "    \"Ryan\" : {\n",
    "        \"class_1_name\" : \"rogue\",\n",
    "        \"class_1_level\" : 3,\n",
    "        \"weapons\" : [\"equipment/dagger\",\n",
    "        \"equipment/longsword\",],\n",
    "        \"spells\" : []\n",
    "    },\n",
    "    \"Jon\": {\n",
    "        \"class_1_name\" : \"warlock\",\n",
    "        \"class_1_level\" : 3,\n",
    "        \"proficiency\" : 2,\n",
    "        \"weapons\" : [\"equipment/dagger\",\n",
    "        \"equipment/longsword\",\n",
    "        \"equipment/crossbow-light\"\n",
    "        ],\n",
    "        \"spells\" : [\n",
    "            \"spells/eldritch-blast\",\n",
    "        \"spells/hellish-rebuke\"\n",
    "        ]\n",
    "\n",
    "    },\n",
    "    \"Erika\" : {\n",
    "        \"class_1_name\" : \"bard\",\n",
    "        \"class_1_level\" : 3,\n",
    "        \"weapons\" : [\"equipment/dagger\",\n",
    "        \"equipment/longsword\",],\n",
    "        \"spells\" : []\n",
    "    },\n",
    "    \"Cierra\" : {\n",
    "        \"class_1_name\" : \"rogue\",\n",
    "        \"class_1_level\" : 3,\n",
    "        \"weapons\" : [\"equipment/dagger\",\n",
    "        \"equipment/longsword\",],\n",
    "        \"spells\" : []\n",
    "    },\n",
    "    \"Dan\" : {\n",
    "        \"class_1_name\" : \"fighter\",\n",
    "        \"class_1_level\" : 3,\n",
    "        \"weapons\" : [\"equipment/dagger\",\n",
    "        \"equipment/longsword\",],\n",
    "        \"spells\" : []\n",
    "    },\n",
    "    \"Adamo\" : {\n",
    "        \"class_1_name\" : \"rogue\",\n",
    "        \"class_1_level\" : 3,\n",
    "        \"weapons\" : [\"equipment/dagger\",\n",
    "        \"equipment/longsword\",],\n",
    "        \"spells\" : []\n",
    "    }\n",
    "    }"
   ]
  },
  {
   "cell_type": "code",
   "execution_count": 15,
   "metadata": {},
   "outputs": [],
   "source": [
    "import requests\n",
    "import pprint\n",
    "import json"
   ]
  },
  {
   "cell_type": "code",
   "execution_count": 16,
   "metadata": {},
   "outputs": [],
   "source": [
    "# json.loads(requests.get(\"https://www.dnd5eapi.co/api/spells/sacred-flame\").text)\n",
    "# https://www.dnd5eapi.co/docs/#get-/api/classes/-index-\n",
    "# https://www.dnd5eapi.co/docs/#get-/api/-endpoint- \n",
    "# https://www.dnd5eapi.co/docs/#get-/api/spells/-index-"
   ]
  },
  {
   "cell_type": "code",
   "execution_count": 17,
   "metadata": {},
   "outputs": [
    {
     "name": "stdout",
     "output_type": "stream",
     "text": [
      "Ryan\n",
      "Jon\n",
      "('Eldritch Blast', 'Force', {'1': '1d10', '5': '1d10', '11': '1d10', '17': '1d10'}, ['1d10', '1d10', '1d10', '1d10'], '1d10')\n",
      "('Hellish Rebuke', 'Fire', {'1': '2d10', '2': '3d10', '3': '4d10', '4': '5d10', '5': '6d10', '6': '7d10', '7': '8d10', '8': '9d10', '9': '10d10'}, ['2d10', '3d10', '4d10', '5d10', '6d10', '7d10', '8d10', '9d10', '10d10'], '2d10')\n",
      "Erika\n",
      "Cierra\n",
      "Dan\n",
      "Adamo\n"
     ]
    }
   ],
   "source": [
    "def grabSpell(link):\n",
    "    link = \"https://www.dnd5eapi.co/api/\"+link\n",
    "    spellData = json.loads(requests.get(link).text)\n",
    "    spellName = spellData[\"name\"]\n",
    "    spellDamage_type = spellData[\"damage\"][\"damage_type\"][\"name\"]\n",
    "    try:\n",
    "        spellAllLevel = spellData[\"damage\"][\"damage_at_slot_level\"]\n",
    "        spellAllLevel_list = list(spellAllLevel.values())\n",
    "        spellBaseLevel = list(spellData[\"damage\"][\"damage_at_slot_level\"].values())[0]\n",
    "    except KeyError:\n",
    "        spellAllLevel = spellData[\"damage\"][\"damage_at_character_level\"]\n",
    "        spellAllLevel_list = list(spellAllLevel.values())\n",
    "        spellBaseLevel = list(spellData[\"damage\"][\"damage_at_character_level\"].values())[0]\n",
    "    return (spellName, spellDamage_type, spellAllLevel, spellAllLevel_list, spellBaseLevel)\n",
    "\n",
    "\n",
    "for player in list(players_weapons_spells.keys()):\n",
    "    print(player)\n",
    "    for element in players_weapons_spells[player][\"spells\"]:\n",
    "        print(grabSpell(element))"
   ]
  },
  {
   "cell_type": "code",
   "execution_count": 18,
   "metadata": {},
   "outputs": [
    {
     "name": "stdout",
     "output_type": "stream",
     "text": [
      "Ryan\n",
      "('Dagger', 'Piercing', '1d4')\n",
      "('Longsword', 'Slashing', '1d8')\n",
      "Jon\n",
      "('Dagger', 'Piercing', '1d4')\n",
      "('Longsword', 'Slashing', '1d8')\n",
      "('Crossbow, light', 'Piercing', '1d8')\n",
      "Erika\n",
      "('Dagger', 'Piercing', '1d4')\n",
      "('Longsword', 'Slashing', '1d8')\n",
      "Cierra\n",
      "('Dagger', 'Piercing', '1d4')\n",
      "('Longsword', 'Slashing', '1d8')\n",
      "Dan\n",
      "('Dagger', 'Piercing', '1d4')\n",
      "('Longsword', 'Slashing', '1d8')\n",
      "Adamo\n",
      "('Dagger', 'Piercing', '1d4')\n",
      "('Longsword', 'Slashing', '1d8')\n"
     ]
    }
   ],
   "source": [
    "def grabWeapon(link):\n",
    "    link = \"https://www.dnd5eapi.co/api/\"+link\n",
    "    weaponData = json.loads(requests.get(link).text)\n",
    "    weaponName = weaponData[\"name\"]\n",
    "    weaponDamage_type = weaponData[\"damage\"][\"damage_type\"][\"name\"]\n",
    "    try:\n",
    "        damageDice = weaponData[\"damage\"][\"damage_dice\"]\n",
    "    except KeyError:\n",
    "        damageDice = \"1d1\"\n",
    "\n",
    "    return (weaponName, weaponDamage_type,damageDice)\n",
    "\n",
    "\n",
    "for player in list(players_weapons_spells.keys()):\n",
    "    print(player)\n",
    "    for element in players_weapons_spells[player][\"weapons\"]:\n",
    "        print(grabWeapon(element))"
   ]
  },
  {
   "cell_type": "code",
   "execution_count": 19,
   "metadata": {},
   "outputs": [
    {
     "name": "stdout",
     "output_type": "stream",
     "text": [
      "Ryan\n",
      "({'sneak_attack': {'dice_count': 2, 'dice_value': 6}}, 2)\n",
      "Jon\n",
      "({'cantrips_known': 2, 'spells_known': 4, 'spell_slots_level_1': 0, 'spell_slots_level_2': 2, 'spell_slots_level_3': 0, 'spell_slots_level_4': 0, 'spell_slots_level_5': 0, 'spell_slots_level_6': 0, 'spell_slots_level_7': 0, 'spell_slots_level_8': 0, 'spell_slots_level_9': 0}, 2)\n",
      "Erika\n",
      "({'cantrips_known': 2, 'spells_known': 6, 'spell_slots_level_1': 4, 'spell_slots_level_2': 2, 'spell_slots_level_3': 0, 'spell_slots_level_4': 0, 'spell_slots_level_5': 0, 'spell_slots_level_6': 0, 'spell_slots_level_7': 0, 'spell_slots_level_8': 0, 'spell_slots_level_9': 0}, 2)\n",
      "Cierra\n",
      "({'sneak_attack': {'dice_count': 2, 'dice_value': 6}}, 2)\n",
      "Dan\n",
      "({'action_surges': 1, 'indomitable_uses': 0, 'extra_attacks': 0}, 2)\n",
      "Adamo\n",
      "({'sneak_attack': {'dice_count': 2, 'dice_value': 6}}, 2)\n"
     ]
    }
   ],
   "source": [
    "def classSlots(className, class_level):\n",
    "    link = \"https://www.dnd5eapi.co/api/classes/\"+className+\"/levels/\"+str(class_level)\n",
    "    spellSlotData = json.loads(requests.get(link).text)\n",
    "    try:\n",
    "        classCasting = spellSlotData[\"spellcasting\"]\n",
    "        classProficiency = spellSlotData[\"prof_bonus\"]\n",
    "    except KeyError:\n",
    "        classCasting = spellSlotData[\"class_specific\"]\n",
    "        classProficiency = spellSlotData[\"prof_bonus\"]\n",
    "    return classCasting, classProficiency\n",
    "\n",
    "for player in list(players_weapons_spells.keys()):\n",
    "    print(player)\n",
    "    print(classSlots(players_weapons_spells[player][\"class_1_name\"], players_weapons_spells[player][\"class_1_level\"]))"
   ]
  }
 ],
 "metadata": {
  "kernelspec": {
   "display_name": "Python 3.10.10 64-bit (microsoft store)",
   "language": "python",
   "name": "python3"
  },
  "language_info": {
   "codemirror_mode": {
    "name": "ipython",
    "version": 3
   },
   "file_extension": ".py",
   "mimetype": "text/x-python",
   "name": "python",
   "nbconvert_exporter": "python",
   "pygments_lexer": "ipython3",
   "version": "3.10.10"
  },
  "orig_nbformat": 4,
  "vscode": {
   "interpreter": {
    "hash": "13809f5fbb2c71687ac0fbc02129e4c89f53832ed2f3a101566dd09001991f6b"
   }
  }
 },
 "nbformat": 4,
 "nbformat_minor": 2
}
