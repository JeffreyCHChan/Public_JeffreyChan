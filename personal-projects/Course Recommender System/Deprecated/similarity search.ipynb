{
 "cells": [
  {
   "cell_type": "code",
   "execution_count": 94,
   "metadata": {},
   "outputs": [],
   "source": [
    "import os.path\n",
    "import random\n",
    "\n",
    "from pyspark import Row, SparkConf, SparkContext\n",
    "from pyspark.sql import SparkSession\n",
    "\n",
    "import re\n",
    "from pyspark.ml.linalg import Vectors, SparseVector\n",
    "from pyspark.sql.functions import udf, regexp_replace, split, col, desc, collect_list, substring, avg, collect_set, length\n",
    "from pyspark.sql.types import StringType, IntegerType, FloatType, ArrayType\n",
    "from pyspark.sql.functions import concat_ws\n",
    "import pickle\n",
    "import pandas as pd\n",
    "from pyspark.sql.utils import AnalysisException\n",
    "from pyspark.sql.functions import size, array_intersect, when\n",
    "\n",
    "# PySPark's Word2Vec for a fixed size vectors\n",
    "from sklearn.feature_extraction.text import CountVectorizer\n"
   ]
  },
  {
   "cell_type": "code",
   "execution_count": 3,
   "metadata": {},
   "outputs": [],
   "source": [
    "def init_spark():\n",
    "    spark = SparkSession \\\n",
    "        .builder \\\n",
    "        .appName(\"Python Spark SQL basic example\") \\\n",
    "        .config(\"spark.some.config.option\", \"some-value\") \\\n",
    "        .getOrCreate()\n",
    "    return spark"
   ]
  },
  {
   "cell_type": "code",
   "execution_count": 4,
   "metadata": {},
   "outputs": [],
   "source": [
    "spark = init_spark()\n",
    "# spark.stop()\n",
    "# spark = SparkSession.builder.getOrCreate()"
   ]
  },
  {
   "cell_type": "code",
   "execution_count": 5,
   "metadata": {},
   "outputs": [],
   "source": [
    "# filename = \"CU_SR_OPEN_DATA_CATALOG.csv\"\n",
    "# df = spark.read.csv(filename, header=True, mode=\"DROPMALFORMED\")\n",
    "# df = df.drop('index',\"Course ID\")\n",
    "# df = df.na.drop()\n",
    "# df = df.withColumn(\"Subject_and_Catalog\", concat_ws(\" \", \"Subject\", \"Catalog\" ))\n",
    "# df = df.withColumn('concatenated_columns',\n",
    "#                    concat_ws(\" \", \"Subject\", \"Catalog\", \"Career\"))"
   ]
  },
  {
   "cell_type": "code",
   "execution_count": 40,
   "metadata": {},
   "outputs": [],
   "source": [
    "filename = \"CATALOG.csv\"\n",
    "description_df = spark.read.csv(filename, header=True, mode=\"DROPMALFORMED\")\n",
    "description_df = description_df.drop('index',\"Course ID\")\n",
    "description_df = description_df.na.drop()\n",
    "description_df = description_df.drop(\"Website\", \"Key\")\n",
    "description_df = description_df.withColumn(\"Subject_and_Catalog_Degree\", concat_ws(\" \", \"Course code\",\"Course number\",\"Degree\"))\n",
    "description_df = description_df.filter(length(\"Course code\") > 1)\n",
    "# description_df = description_df.select(\"Subject_and_Catalog\", \"Description\")"
   ]
  },
  {
   "cell_type": "code",
   "execution_count": 53,
   "metadata": {},
   "outputs": [
    {
     "name": "stdout",
     "output_type": "stream",
     "text": [
      "root\n",
      " |-- Faculty: string (nullable = true)\n",
      " |-- Department: string (nullable = true)\n",
      " |-- Program: string (nullable = true)\n",
      " |-- Level: string (nullable = true)\n",
      " |-- Degree: string (nullable = true)\n",
      " |-- Course code: string (nullable = true)\n",
      " |-- Course number: string (nullable = true)\n",
      " |-- Title: string (nullable = true)\n",
      " |-- Description: string (nullable = true)\n",
      " |-- Metadata: string (nullable = true)\n",
      " |-- Type: string (nullable = true)\n",
      " |-- Subject_and_Catalog_Degree: string (nullable = false)\n",
      "\n"
     ]
    }
   ],
   "source": [
    "description_df.printSchema()"
   ]
  },
  {
   "cell_type": "code",
   "execution_count": 29,
   "metadata": {},
   "outputs": [],
   "source": [
    "# joined_df = description_df.join(df, df.Subject_and_Catalog == description_df.Subject_and_Catalog, how=\"full\")"
   ]
  },
  {
   "cell_type": "code",
   "execution_count": null,
   "metadata": {},
   "outputs": [],
   "source": [
    "description_df.show(20)"
   ]
  },
  {
   "cell_type": "code",
   "execution_count": 9,
   "metadata": {},
   "outputs": [],
   "source": [
    "# from pyspark.ml.feature import StopWordsRemover\n",
    "# remover = StopWordsRemover(inputCol=\"Description\", outputCol=\"filtered\")\n",
    "# remover.transform(df).show(truncate=False)"
   ]
  },
  {
   "cell_type": "code",
   "execution_count": 57,
   "metadata": {},
   "outputs": [],
   "source": [
    "from pyspark.ml.feature import HashingTF, IDF, Tokenizer\n",
    "\n",
    "\n",
    "\n",
    "tokenizer = Tokenizer(inputCol=\"Description\", outputCol=\"CourseWords\")\n",
    "\n",
    "wordsData = tokenizer.transform(description_df)\n",
    "\n",
    "hashingTF = HashingTF(inputCol=\"CourseWords\", outputCol=\"rawFeatures\", numFeatures=20)\n",
    "featurizedData = hashingTF.transform(wordsData)\n",
    "# alternatively, CountVectorizer can also be used to get term frequency vectors\n",
    "\n",
    "idf = IDF(inputCol=\"rawFeatures\", outputCol=\"features\")\n",
    "idfModel = idf.fit(featurizedData)\n",
    "rescaledData = idfModel.transform(featurizedData)\n",
    "\n",
    "features = rescaledData.map(\"features\").toArray\n",
    "results = rescaledData"
   ]
  },
  {
   "cell_type": "code",
   "execution_count": 86,
   "metadata": {},
   "outputs": [
    {
     "name": "stdout",
     "output_type": "stream",
     "text": [
      "+-------+--------------------+--------------------+-------------+----------+-----------+-------------+--------------------+--------------------+-----------+-----------------+--------------------------+--------------------+--------------------+--------------------+\n",
      "|Faculty|          Department|             Program|        Level|    Degree|Course code|Course number|               Title|         Description|   Metadata|             Type|Subject_and_Catalog_Degree|         CourseWords|         rawFeatures|            features|\n",
      "+-------+--------------------+--------------------+-------------+----------+-----------+-------------+--------------------+--------------------+-----------+-----------------+--------------------------+--------------------+--------------------+--------------------+\n",
      "|    FAS|             History|             History|    Any level|Any degree|       HIST|          498|Critical Museolog...|International Gra...|    Courses|Course-integrated|       HIST 498 Any degree|[international, g...|(20,[1,5,8,18,19]...|(20,[1,5,8,18,19]...|\n",
      "|    FAS|             History|             History|    Any level|Any degree|       HIST|          498|Edible Environmen...|International Gra...|    Courses|Course-integrated|       HIST 498 Any degree|[international, g...|(20,[1,4,5,8,19],...|(20,[1,4,5,8,19],...|\n",
      "|    FAS|Applied Human Sci...|    Leisure Sciences|Undergraduate|  Bachelor|       AHSC|          437|Internships in Le...|Opportunity to de...|Internships|  Work-integrated|         AHSC 437 Bachelor|[opportunity, to,...|(20,[0,3,4,7,8,9,...|(20,[0,3,4,7,8,9,...|\n",
      "|    FAS|           Education|Early Childhood a...|Undergraduate|  Bachelor|       EDUC|          264|Communication: Ch...|Students interact...|   Practica|Course-integrated|         EDUC 264 Bachelor|[students, intera...|(20,[1,3,4,5,10,1...|(20,[1,3,4,5,10,1...|\n",
      "|    FAS|           Education|Early Childhood a...|Undergraduate|  Bachelor|       EDUC|          301|Integrating Compu...|Hands-on experien...|    Courses|Course-integrated|         EDUC 301 Bachelor|[hands-on, experi...|(20,[10,11,15,17]...|(20,[10,11,15,17]...|\n",
      "|    FAS|           Education|       Child Studies|     Graduate|    Master|       CHST|          605|Quantitative Meth...|Laboratory work, ...|    Courses|Course-integrated|           CHST 605 Master|[laboratory, work...|(20,[6,10,12,15],...|(20,[6,10,12,15],...|\n",
      "|    FAS|Mathematics and S...|         Any program|Undergraduate|  Bachelor|       STAT|          497|Topics in Statist...|Reinforcement Lea...|    Courses|Course-integrated|         STAT 497 Bachelor|[reinforcement, l...|(20,[0,1,10,11,12...|(20,[0,1,10,11,12...|\n",
      "|    FAS|Mathematics and S...|Mathematics and S...|Undergraduate|  Bachelor|       MAST|          397|Topics in Mathema...|Python programmin...|    Courses|Course-integrated|         MAST 397 Bachelor|[python, programm...|(20,[0,8,9,11,13,...|(20,[0,8,9,11,13,...|\n",
      "|    FAS|   Political Science|   Political Science|Undergraduate|  Bachelor|       POLI|          397|          Internship|10hrs/week for 13...|   Practica|  Work-integrated|         POLI 397 Bachelor|[10hrs/week, for,...|(20,[0,1,2,3,4,5,...|(20,[0,1,2,3,4,5,...|\n",
      "|    FAS|   Political Science|Public Policy & P...|     Graduate|    Master|       POLI|          693|          Internship|Students complete...|   Practica|  Work-integrated|           POLI 693 Master|[students, comple...|(20,[1,2,3,4,5,6,...|(20,[1,2,3,4,5,6,...|\n",
      "+-------+--------------------+--------------------+-------------+----------+-----------+-------------+--------------------+--------------------+-----------+-----------------+--------------------------+--------------------+--------------------+--------------------+\n",
      "only showing top 10 rows\n",
      "\n"
     ]
    }
   ],
   "source": [
    "results.show(10)"
   ]
  },
  {
   "cell_type": "code",
   "execution_count": 101,
   "metadata": {},
   "outputs": [],
   "source": [
    "# extract_integers_udf = udf(lambda x: [int(i) for i in x.toArray()], ArrayType(IntegerType()))\n",
    "extract_indices_udf = udf(lambda x: x.indices.tolist())\n",
    "\n"
   ]
  },
  {
   "cell_type": "code",
   "execution_count": 103,
   "metadata": {},
   "outputs": [],
   "source": [
    "df = results.withColumn(\"values\", extract_indices_udf(results[\"features\"]))\n"
   ]
  },
  {
   "cell_type": "code",
   "execution_count": 104,
   "metadata": {},
   "outputs": [
    {
     "name": "stdout",
     "output_type": "stream",
     "text": [
      "+---------------------------------------------------------------------------------------------------------------------------------------------------------------------------------------------------------------------------------------------------------------------------------------------------------------------------------------------------------------------------------------------------------+---------------------------------------------------------------+\n",
      "|features                                                                                                                                                                                                                                                                                                                                                                                                 |values                                                         |\n",
      "+---------------------------------------------------------------------------------------------------------------------------------------------------------------------------------------------------------------------------------------------------------------------------------------------------------------------------------------------------------------------------------------------------------+---------------------------------------------------------------+\n",
      "|(20,[1,5,8,18,19],[1.6784307839210517,1.4271163556401458,0.9852836033611064,1.6094379124341003,2.5257286443082556])                                                                                                                                                                                                                                                                                      |[1, 5, 8, 18, 19]                                              |\n",
      "|(20,[1,4,5,8,19],[1.6784307839210517,1.5448993912965292,1.4271163556401458,0.9852836033611064,2.5257286443082556])                                                                                                                                                                                                                                                                                       |[1, 4, 5, 8, 19]                                               |\n",
      "|(20,[0,3,4,7,8,9,10,11,12,14,15,16,18],[2.120263536200091,6.608779199911598,1.5448993912965292,0.32850406697203605,3.9411344134444257,0.6286086594223741,0.6943923999683771,2.2788685663767296,0.29213642280116114,2.2380465718564744,1.1394342831883648,3.2188758248682006,1.6094379124341003])                                                                                                         |[0, 3, 4, 7, 8, 9, 10, 11, 12, 14, 15, 16, 18]                 |\n",
      "|(20,[1,3,4,5,10,11,15,17,18],[3.3568615678421034,3.9652675199469583,1.5448993912965292,1.4271163556401458,0.6943923999683771,2.2788685663767296,2.2788685663767296,5.035292351763156,3.2188758248682006])                                                                                                                                                                                                |[1, 3, 4, 5, 10, 11, 15, 17, 18]                               |\n",
      "|(20,[10,11,15,17],[0.34719619998418855,1.1394342831883648,1.1394342831883648,3.3568615678421034])                                                                                                                                                                                                                                                                                                        |[10, 11, 15, 17]                                               |\n",
      "|(20,[6,10,12,15],[2.2380465718564744,0.34719619998418855,0.29213642280116114,1.1394342831883648])                                                                                                                                                                                                                                                                                                        |[6, 10, 12, 15]                                                |\n",
      "|(20,[0,1,10,11,12,17],[2.120263536200091,3.3568615678421034,0.34719619998418855,3.4183028495650944,0.5842728456023223,1.6784307839210517])                                                                                                                                                                                                                                                               |[0, 1, 10, 11, 12, 17]                                         |\n",
      "|(20,[0,8,9,11,13,15,16,17],[2.120263536200091,0.9852836033611064,0.6286086594223741,1.1394342831883648,5.051457288616511,2.2788685663767296,1.6094379124341003,1.6784307839210517])                                                                                                                                                                                                                      |[0, 8, 9, 11, 13, 15, 16, 17]                                  |\n",
      "|(20,[0,1,2,3,4,5,6,7,8,9,10,11,12,14,15,16,17],[4.240527072400182,1.6784307839210517,1.2264456601779945,2.643511679964639,3.0897987825930584,4.281349066920438,4.476093143712949,1.9710244018322163,0.9852836033611064,0.6286086594223741,1.3887847999367542,2.2788685663767296,0.29213642280116114,6.714139715569424,2.2788685663767296,1.6094379124341003,1.6784307839210517])                         |[0, 1, 2, 3, 4, 5, 6, 7, 8, 9, 10, 11, 12, 14, 15, 16, 17]     |\n",
      "|(20,[1,2,3,4,5,6,7,8,9,10,11,12,13,14,15,17,18,19],[1.6784307839210517,7.358673961067967,5.287023359929278,1.5448993912965292,1.4271163556401458,2.2380465718564744,0.9855122009161081,2.9558508100833194,1.2572173188447482,0.34719619998418855,2.2788685663767296,1.7528185368069669,10.102914577233022,2.2380465718564744,2.2788685663767296,1.6784307839210517,1.6094379124341003,5.051457288616511])|[1, 2, 3, 4, 5, 6, 7, 8, 9, 10, 11, 12, 13, 14, 15, 17, 18, 19]|\n",
      "+---------------------------------------------------------------------------------------------------------------------------------------------------------------------------------------------------------------------------------------------------------------------------------------------------------------------------------------------------------------------------------------------------------+---------------------------------------------------------------+\n",
      "only showing top 10 rows\n",
      "\n"
     ]
    }
   ],
   "source": [
    "df.select(\"features\",\"values\").show(10, truncate=False)"
   ]
  },
  {
   "cell_type": "code",
   "execution_count": 55,
   "metadata": {},
   "outputs": [
    {
     "name": "stdout",
     "output_type": "stream",
     "text": [
      "root\n",
      " |-- Faculty: string (nullable = true)\n",
      " |-- Department: string (nullable = true)\n",
      " |-- Program: string (nullable = true)\n",
      " |-- Level: string (nullable = true)\n",
      " |-- Degree: string (nullable = true)\n",
      " |-- Course code: string (nullable = true)\n",
      " |-- Course number: string (nullable = true)\n",
      " |-- Title: string (nullable = true)\n",
      " |-- Description: string (nullable = true)\n",
      " |-- Metadata: string (nullable = true)\n",
      " |-- Type: string (nullable = true)\n",
      " |-- Subject_and_Catalog_Degree: string (nullable = false)\n",
      " |-- CourseWords: array (nullable = true)\n",
      " |    |-- element: string (containsNull = true)\n",
      " |-- rawFeatures: vector (nullable = true)\n",
      " |-- features: vector (nullable = true)\n",
      "\n"
     ]
    }
   ],
   "source": [
    "results.printSchema()"
   ]
  },
  {
   "cell_type": "code",
   "execution_count": null,
   "metadata": {},
   "outputs": [],
   "source": [
    "def cosine_similarity(vec1, vec2):\n",
    "    return float(vec1.dot(vec2) / (vec1.norm(2) * vec2.norm(2)))"
   ]
  },
  {
   "cell_type": "code",
   "execution_count": null,
   "metadata": {},
   "outputs": [],
   "source": [
    "# Register the cosine similarity function as a UDF\n",
    "cosine_similarity_udf = udf(cosine_similarity, DoubleType())\n",
    "\n",
    "# CrossJoin the DataFrame with itself to get all pairs of rows\n",
    "df_pairs = result.alias(\"a\").crossJoin(result.alias(\"b\"))\n",
    "\n",
    "# Register the UDF\n",
    "spark.udf.register(\"cosine_similarity_udf\", cosine_similarity, DoubleType())\n",
    "\n",
    "# Calculate the cosine similarity for each pair of rows\n",
    "df_similarity = df_pairs.selectExpr(\n",
    "    \"a.code as code1\",\n",
    "    \"b.code as code2\",\n",
    "    \"cosine_similarity_udf(a.featuresCountVec, b.featuresCountVec) as similarity\"\n",
    ")\n",
    "\n",
    "# It won't display the CosineSimilarity for identical course codes\n",
    "# And won't display redundant rows (ex: COMP352 | COMP346 | 0.4\n",
    "#                                       COMP346 | COMP352 | 0.4 )\n",
    "df_similarity = df_similarity.filter(col(\"code1\") < col(\"code2\"))\n",
    "#df_similarity.printSchema()\n",
    "# df_similarity.show(50)\n",
    "\n",
    "#can set the minimum threshhold for course similarity.\n",
    "df_similarity = df_similarity.filter(col(\"similarity\") > 0)\n",
    "df_similarity = df_similarity.orderBy('similarity', ascending=False)"
   ]
  }
 ],
 "metadata": {
  "kernelspec": {
   "display_name": "Python 3.10.10 64-bit (microsoft store)",
   "language": "python",
   "name": "python3"
  },
  "language_info": {
   "codemirror_mode": {
    "name": "ipython",
    "version": 3
   },
   "file_extension": ".py",
   "mimetype": "text/x-python",
   "name": "python",
   "nbconvert_exporter": "python",
   "pygments_lexer": "ipython3",
   "version": "3.10.10"
  },
  "orig_nbformat": 4,
  "vscode": {
   "interpreter": {
    "hash": "13809f5fbb2c71687ac0fbc02129e4c89f53832ed2f3a101566dd09001991f6b"
   }
  }
 },
 "nbformat": 4,
 "nbformat_minor": 2
}
