{
  "cells": [
    {
      "cell_type": "markdown",
      "metadata": {},
      "source": [
        "\n",
        "# Tyre strategies during a race\n",
        "\n",
        "Plot all drivers' tyre strategies during a race.\n"
      ]
    },
    {
      "cell_type": "code",
      "execution_count": 19,
      "metadata": {
        "collapsed": false
      },
      "outputs": [],
      "source": [
        "import fastf1\n",
        "import fastf1.plotting\n",
        "from matplotlib import pyplot as plt"
      ]
    },
    {
      "cell_type": "code",
      "execution_count": 20,
      "metadata": {},
      "outputs": [],
      "source": [
        "fastf1.Cache.enable_cache(\"./cache\")"
      ]
    },
    {
      "cell_type": "markdown",
      "metadata": {},
      "source": [
        "Load the race session\n",
        "\n"
      ]
    },
    {
      "cell_type": "code",
      "execution_count": 21,
      "metadata": {
        "collapsed": false
      },
      "outputs": [
        {
          "name": "stderr",
          "output_type": "stream",
          "text": [
            "core           INFO \tLoading data for Austrian Grand Prix - Practice 1 [v3.0.6]\n",
            "req            INFO \tNo cached data found for driver_info. Loading data...\n",
            "_api           INFO \tFetching driver list...\n",
            "req            INFO \tData has been written to cache!\n",
            "core        WARNING \tNo result data for this session available on Ergast! (This is expected for recent sessions)\n",
            "req            INFO \tNo cached data found for session_status_data. Loading data...\n",
            "_api           INFO \tFetching session status data...\n",
            "req            INFO \tData has been written to cache!\n",
            "req            INFO \tNo cached data found for track_status_data. Loading data...\n",
            "_api           INFO \tFetching track status data...\n",
            "req            INFO \tData has been written to cache!\n",
            "req            INFO \tNo cached data found for timing_data. Loading data...\n",
            "_api           INFO \tFetching timing data...\n",
            "_api           INFO \tParsing timing data...\n",
            "req            INFO \tData has been written to cache!\n",
            "req            INFO \tNo cached data found for timing_app_data. Loading data...\n",
            "_api           INFO \tFetching timing app data...\n",
            "req            INFO \tData has been written to cache!\n",
            "core           INFO \tProcessing timing data...\n",
            "req            INFO \tNo cached data found for car_data. Loading data...\n",
            "_api           INFO \tFetching car data...\n",
            "_api           INFO \tParsing car data...\n",
            "req            INFO \tData has been written to cache!\n",
            "req            INFO \tNo cached data found for position_data. Loading data...\n",
            "_api           INFO \tFetching position data...\n",
            "logger      WARNING \tFailed to load telemetry data!\n",
            "req            INFO \tNo cached data found for weather_data. Loading data...\n",
            "_api           INFO \tFetching weather data...\n",
            "req            INFO \tData has been written to cache!\n",
            "req            INFO \tNo cached data found for race_control_messages. Loading data...\n",
            "_api           INFO \tFetching race control messages...\n",
            "req            INFO \tData has been written to cache!\n",
            "core           INFO \tFinished loading data for 20 drivers: ['1', '2', '4', '10', '11', '14', '16', '18', '20', '21', '22', '23', '24', '27', '31', '44', '55', '63', '77', '81']\n"
          ]
        }
      ],
      "source": [
        "event_name = \"Austrian\"\n",
        "session = fastf1.get_session(2023, event_name, 'FP1')\n",
        "session.load()\n",
        "laps = session.laps\n",
        "\n",
        "session_name = session.name\n",
        "\n"
      ]
    },
    {
      "cell_type": "markdown",
      "metadata": {},
      "source": [
        "Get the list of driver numbers\n",
        "\n"
      ]
    },
    {
      "cell_type": "code",
      "execution_count": 22,
      "metadata": {
        "collapsed": false
      },
      "outputs": [
        {
          "name": "stdout",
          "output_type": "stream",
          "text": [
            "['1', '2', '4', '10', '11', '14', '16', '18', '20', '21', '22', '23', '24', '27', '31', '44', '55', '63', '77', '81']\n"
          ]
        }
      ],
      "source": [
        "drivers = session.drivers\n",
        "print(drivers)"
      ]
    },
    {
      "cell_type": "markdown",
      "metadata": {},
      "source": [
        "Convert the driver numbers to three letter abbreviations\n",
        "\n"
      ]
    },
    {
      "cell_type": "code",
      "execution_count": 23,
      "metadata": {
        "collapsed": false
      },
      "outputs": [
        {
          "name": "stdout",
          "output_type": "stream",
          "text": [
            "['VER', 'SAR', 'NOR', 'GAS', 'PER', 'ALO', 'LEC', 'STR', 'MAG', 'DEV', 'TSU', 'ALB', 'ZHO', 'HUL', 'OCO', 'HAM', 'SAI', 'RUS', 'BOT', 'PIA']\n"
          ]
        }
      ],
      "source": [
        "drivers = [session.get_driver(driver)[\"Abbreviation\"] for driver in drivers]\n",
        "print(drivers)"
      ]
    },
    {
      "cell_type": "markdown",
      "metadata": {},
      "source": [
        "We need to find the stint length and compound used\n",
        "for every stint by every driver.\n",
        "We do this by first grouping the laps by the driver,\n",
        "the stint number, and the compound.\n",
        "And then counting the number of laps in each group.\n",
        "\n"
      ]
    },
    {
      "cell_type": "code",
      "execution_count": 24,
      "metadata": {
        "collapsed": false
      },
      "outputs": [],
      "source": [
        "stints = laps[[\"Driver\", \"Stint\", \"Compound\", \"LapNumber\", \"TyreLife\", \"FreshTyre\"]]\n",
        "stints = stints.groupby([\"Driver\", \"Stint\", \"Compound\", \"FreshTyre\"])\n",
        "stints = stints.count().reset_index()"
      ]
    },
    {
      "cell_type": "code",
      "execution_count": 25,
      "metadata": {},
      "outputs": [
        {
          "data": {
            "text/html": [
              "<div>\n",
              "<style scoped>\n",
              "    .dataframe tbody tr th:only-of-type {\n",
              "        vertical-align: middle;\n",
              "    }\n",
              "\n",
              "    .dataframe tbody tr th {\n",
              "        vertical-align: top;\n",
              "    }\n",
              "\n",
              "    .dataframe thead th {\n",
              "        text-align: right;\n",
              "    }\n",
              "</style>\n",
              "<table border=\"1\" class=\"dataframe\">\n",
              "  <thead>\n",
              "    <tr style=\"text-align: right;\">\n",
              "      <th></th>\n",
              "      <th>Driver</th>\n",
              "      <th>Stint</th>\n",
              "      <th>Compound</th>\n",
              "      <th>FreshTyre</th>\n",
              "      <th>LapNumber</th>\n",
              "      <th>TyreLife</th>\n",
              "    </tr>\n",
              "  </thead>\n",
              "  <tbody>\n",
              "    <tr>\n",
              "      <th>0</th>\n",
              "      <td>ALB</td>\n",
              "      <td>1.0</td>\n",
              "      <td>MEDIUM</td>\n",
              "      <td>True</td>\n",
              "      <td>2</td>\n",
              "      <td>2</td>\n",
              "    </tr>\n",
              "    <tr>\n",
              "      <th>1</th>\n",
              "      <td>ALB</td>\n",
              "      <td>2.0</td>\n",
              "      <td>SOFT</td>\n",
              "      <td>True</td>\n",
              "      <td>16</td>\n",
              "      <td>16</td>\n",
              "    </tr>\n",
              "    <tr>\n",
              "      <th>2</th>\n",
              "      <td>ALB</td>\n",
              "      <td>3.0</td>\n",
              "      <td>SOFT</td>\n",
              "      <td>False</td>\n",
              "      <td>1</td>\n",
              "      <td>1</td>\n",
              "    </tr>\n",
              "    <tr>\n",
              "      <th>3</th>\n",
              "      <td>ALB</td>\n",
              "      <td>4.0</td>\n",
              "      <td>SOFT</td>\n",
              "      <td>False</td>\n",
              "      <td>1</td>\n",
              "      <td>1</td>\n",
              "    </tr>\n",
              "    <tr>\n",
              "      <th>4</th>\n",
              "      <td>ALB</td>\n",
              "      <td>5.0</td>\n",
              "      <td>SOFT</td>\n",
              "      <td>False</td>\n",
              "      <td>3</td>\n",
              "      <td>3</td>\n",
              "    </tr>\n",
              "  </tbody>\n",
              "</table>\n",
              "</div>"
            ],
            "text/plain": [
              "  Driver  Stint Compound  FreshTyre  LapNumber  TyreLife\n",
              "0    ALB    1.0   MEDIUM       True          2         2\n",
              "1    ALB    2.0     SOFT       True         16        16\n",
              "2    ALB    3.0     SOFT      False          1         1\n",
              "3    ALB    4.0     SOFT      False          1         1\n",
              "4    ALB    5.0     SOFT      False          3         3"
            ]
          },
          "execution_count": 25,
          "metadata": {},
          "output_type": "execute_result"
        }
      ],
      "source": [
        "stints.head()"
      ]
    },
    {
      "cell_type": "markdown",
      "metadata": {},
      "source": [
        "The number in the LapNumber column now stands for the number of observations\n",
        "in that group aka the stint length.\n",
        "\n"
      ]
    },
    {
      "cell_type": "code",
      "execution_count": 26,
      "metadata": {
        "collapsed": false
      },
      "outputs": [],
      "source": [
        "stints = stints.rename(columns={\"LapNumber\": \"StintLength\"})\n",
        "# print(stints)"
      ]
    },
    {
      "cell_type": "markdown",
      "metadata": {},
      "source": [
        "Now we can plot the strategies for each driver\n",
        "\n"
      ]
    },
    {
      "cell_type": "code",
      "execution_count": 27,
      "metadata": {
        "collapsed": false
      },
      "outputs": [
        {
          "data": {
            "image/png": "[encoded data removed]",
            "text/plain": [
              "<Figure size 500x1000 with 1 Axes>"
            ]
          },
          "metadata": {},
          "output_type": "display_data"
        }
      ],
      "source": [
        "fig, ax = plt.subplots(figsize=(5, 10))\n",
        "\n",
        "for driver in drivers:\n",
        "    driver_stints = stints.loc[stints[\"Driver\"] == driver]\n",
        "\n",
        "    previous_stint_end = 0\n",
        "    for idx, row in driver_stints.iterrows():\n",
        "        # each row contains the compound name and stint length\n",
        "        # we can use these information to draw horizontal bars\n",
        "        if row[\"FreshTyre\"] == False:\n",
        "            plt.barh(\n",
        "            y=driver,\n",
        "            width=row[\"StintLength\"],\n",
        "            left=previous_stint_end,\n",
        "            color=fastf1.plotting.COMPOUND_COLORS[row[\"Compound\"]],\n",
        "            edgecolor=\"black\",\n",
        "            fill=True,\n",
        "            hatch=r'/'\n",
        "        )\n",
        "        else: \n",
        "            plt.barh(\n",
        "            y=driver,\n",
        "            width=row[\"StintLength\"],\n",
        "            left=previous_stint_end,\n",
        "            color=fastf1.plotting.COMPOUND_COLORS[row[\"Compound\"]],\n",
        "            edgecolor=\"black\",\n",
        "            fill=True\n",
        "        )\n",
        "\n",
        "        previous_stint_end += row[\"StintLength\"]\n",
        "\n",
        "\n",
        "plt.title(f\"2022 {event_name} Grand Prix Strategies ({session_name})\")\n",
        "plt.xlabel(\"Lap Number\")\n",
        "plt.grid(False)\n",
        "# invert the y-axis so drivers that finish higher are closer to the top\n",
        "ax.invert_yaxis()\n",
        "\n",
        "ax.spines['top'].set_visible(False)\n",
        "ax.spines['right'].set_visible(False)\n",
        "ax.spines['left'].set_visible(False)\n",
        "\n",
        "plt.tight_layout()\n",
        "plt.show()"
      ]
    },
    {
      "cell_type": "markdown",
      "metadata": {},
      "source": [
        "Make the plot more readable and intuitive\n",
        "\n"
      ]
    },
    {
      "cell_type": "markdown",
      "metadata": {},
      "source": [
        "Plot aesthetics\n",
        "\n"
      ]
    },
    {
      "cell_type": "code",
      "execution_count": null,
      "metadata": {
        "collapsed": false
      },
      "outputs": [],
      "source": []
    }
  ],
  "metadata": {
    "kernelspec": {
      "display_name": "Python 3.10.10 64-bit (microsoft store)",
      "language": "python",
      "name": "python3"
    },
    "language_info": {
      "codemirror_mode": {
        "name": "ipython",
        "version": 3
      },
      "file_extension": ".py",
      "mimetype": "text/x-python",
      "name": "python",
      "nbconvert_exporter": "python",
      "pygments_lexer": "ipython3",
      "version": "3.10.10"
    },
    "vscode": {
      "interpreter": {
        "hash": "13809f5fbb2c71687ac0fbc02129e4c89f53832ed2f3a101566dd09001991f6b"
      }
    }
  },
  "nbformat": 4,
  "nbformat_minor": 0
}
