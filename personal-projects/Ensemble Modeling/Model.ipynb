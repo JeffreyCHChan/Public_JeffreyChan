{
 "cells": [
  {
   "cell_type": "markdown",
   "metadata": {},
   "source": [
    "<h1>To Do:</h1>\n",
    "\n",
    "* Clean Up Notebook"
   ]
  },
  {
   "cell_type": "code",
   "execution_count": 44,
   "metadata": {},
   "outputs": [],
   "source": [
    "import pandas as pd \n",
    "import numpy as np\n",
    "from sklearn.ensemble import RandomForestClassifier, VotingClassifier\n",
    "from sklearn.linear_model import SGDClassifier\n",
    "from sklearn import preprocessing \n",
    "from sklearn.model_selection import cross_val_score"
   ]
  },
  {
   "cell_type": "markdown",
   "metadata": {},
   "source": [
    "* https://scikit-learn.org/stable/modules/model_evaluation.html\n",
    "* https://scikit-learn.org/stable/modules/generated/sklearn.linear_model.SGDClassifier.html#sklearn.linear_model.SGDClassifier\n",
    "* https://scikit-learn.org/stable/modules/generated/sklearn.ensemble.RandomForestClassifier.html\n",
    "* https://scikit-learn.org/stable/modules/generated/sklearn.ensemble.VotingClassifier.html\n",
    "* https://scikit-learn.org/stable/modules/generated/sklearn.model_selection.cross_val_score.html#sklearn.model_selection.cross_val_score"
   ]
  },
  {
   "cell_type": "code",
   "execution_count": 45,
   "metadata": {},
   "outputs": [],
   "source": [
    "# print(training.columns)\n",
    "# print(training.head(10))"
   ]
  },
  {
   "cell_type": "code",
   "execution_count": 46,
   "metadata": {},
   "outputs": [],
   "source": [
    "training = pd.read_csv(\"train.csv\")\n",
    "training = training.drop([\"Unnamed: 0\",\"id\"], axis=1)\n",
    "\n",
    "test = pd.read_csv(\"test.csv\")\n",
    "training = test.drop([\"Unnamed: 0\", \"id\"], axis=1)"
   ]
  },
  {
   "cell_type": "code",
   "execution_count": 47,
   "metadata": {},
   "outputs": [
    {
     "name": "stdout",
     "output_type": "stream",
     "text": [
      "count    25976.000000\n",
      "mean         0.592778\n",
      "std          0.623703\n",
      "min          0.000000\n",
      "25%          0.000000\n",
      "50%          1.000000\n",
      "75%          1.000000\n",
      "max          2.000000\n",
      "Name: Class, dtype: float64\n"
     ]
    }
   ],
   "source": [
    "le = preprocessing.LabelEncoder()\n",
    "\n",
    "# training[\"Gender\"] = le.fit_transform(training[\"Gender\"])\n",
    "# print(training[\"Gender\"].describe())\n",
    "for i in ['Gender', 'Customer Type', \"satisfaction\",\"Class\", \"Type of Travel\"]:\n",
    "    training[i] = le.fit_transform(training[i])\n",
    "    test[i] = le.fit_transform(test[i])\n",
    "print(training[\"Class\"].describe())"
   ]
  },
  {
   "cell_type": "code",
   "execution_count": 48,
   "metadata": {},
   "outputs": [],
   "source": [
    "training_x = training.drop([\"satisfaction\"], axis=1)\n",
    "training_y = training[[\"satisfaction\"]]\n",
    "test_x = test.drop([\"satisfaction\"], axis=1)\n",
    "test_y = test[[\"satisfaction\"]]"
   ]
  },
  {
   "cell_type": "code",
   "execution_count": 49,
   "metadata": {},
   "outputs": [
    {
     "name": "stdout",
     "output_type": "stream",
     "text": [
      "count    25976.000000\n",
      "mean         0.438982\n",
      "std          0.496272\n",
      "min          0.000000\n",
      "25%          0.000000\n",
      "50%          0.000000\n",
      "75%          1.000000\n",
      "max          1.000000\n",
      "Name: satisfaction, dtype: float64\n",
      "count    25976.000000\n",
      "mean         0.438982\n",
      "std          0.496272\n",
      "min          0.000000\n",
      "25%          0.000000\n",
      "50%          0.000000\n",
      "75%          1.000000\n",
      "max          1.000000\n",
      "Name: satisfaction, dtype: float64\n"
     ]
    }
   ],
   "source": [
    "print(training[\"satisfaction\"].describe())\n",
    "print(test[\"satisfaction\"].describe())"
   ]
  },
  {
   "cell_type": "code",
   "execution_count": 50,
   "metadata": {},
   "outputs": [
    {
     "name": "stdout",
     "output_type": "stream",
     "text": [
      "       satisfaction\n",
      "count  25976.000000\n",
      "mean       0.438982\n",
      "std        0.496272\n",
      "min        0.000000\n",
      "25%        0.000000\n",
      "50%        0.000000\n",
      "75%        1.000000\n",
      "max        1.000000\n"
     ]
    }
   ],
   "source": [
    "print(training_y.describe())"
   ]
  },
  {
   "cell_type": "code",
   "execution_count": 51,
   "metadata": {},
   "outputs": [
    {
     "name": "stdout",
     "output_type": "stream",
     "text": [
      "NaN in training set:\n",
      "Gender                                0\n",
      "Customer Type                         0\n",
      "Age                                   0\n",
      "Type of Travel                        0\n",
      "Class                                 0\n",
      "Flight Distance                       0\n",
      "Inflight wifi service                 0\n",
      "Departure/Arrival time convenient     0\n",
      "Ease of Online booking                0\n",
      "Gate location                         0\n",
      "Food and drink                        0\n",
      "Online boarding                       0\n",
      "Seat comfort                          0\n",
      "Inflight entertainment                0\n",
      "On-board service                      0\n",
      "Leg room service                      0\n",
      "Baggage handling                      0\n",
      "Checkin service                       0\n",
      "Inflight service                      0\n",
      "Cleanliness                           0\n",
      "Departure Delay in Minutes            0\n",
      "Arrival Delay in Minutes             83\n",
      "satisfaction                          0\n",
      "dtype: int64\n",
      "NaN in test set:\n",
      "Unnamed: 0                            0\n",
      "id                                    0\n",
      "Gender                                0\n",
      "Customer Type                         0\n",
      "Age                                   0\n",
      "Type of Travel                        0\n",
      "Class                                 0\n",
      "Flight Distance                       0\n",
      "Inflight wifi service                 0\n",
      "Departure/Arrival time convenient     0\n",
      "Ease of Online booking                0\n",
      "Gate location                         0\n",
      "Food and drink                        0\n",
      "Online boarding                       0\n",
      "Seat comfort                          0\n",
      "Inflight entertainment                0\n",
      "On-board service                      0\n",
      "Leg room service                      0\n",
      "Baggage handling                      0\n",
      "Checkin service                       0\n",
      "Inflight service                      0\n",
      "Cleanliness                           0\n",
      "Departure Delay in Minutes            0\n",
      "Arrival Delay in Minutes             83\n",
      "satisfaction                          0\n",
      "dtype: int64\n"
     ]
    }
   ],
   "source": [
    "print(f\"NaN in training set:\\n{training.isnull().sum()}\")\n",
    "print(f\"NaN in test set:\\n{test.isnull().sum()}\")"
   ]
  },
  {
   "cell_type": "markdown",
   "metadata": {},
   "source": [
    "<h1> Data Modifications: </h1>\n",
    "\n",
    "<li> Dropped number column, id </li>\n",
    "\n",
    "Note that we ensure that id must not occur in both training and testing in order to recdue the likelihood of data leaking."
   ]
  },
  {
   "cell_type": "code",
   "execution_count": 52,
   "metadata": {},
   "outputs": [
    {
     "name": "stdout",
     "output_type": "stream",
     "text": [
      "count    25976.000000\n",
      "mean       -17.255621\n",
      "std        566.388577\n",
      "min      -9999.000000\n",
      "25%          0.000000\n",
      "50%          0.000000\n",
      "75%         13.000000\n",
      "max       1115.000000\n",
      "Name: Arrival Delay in Minutes, dtype: float64\n"
     ]
    }
   ],
   "source": [
    "# print(training_x[\"Arrival Delay in Minutes\"].describe())\n",
    "training_x[\"Arrival Delay in Minutes\"] = training_x[\"Arrival Delay in Minutes\"].fillna(-9999)\n",
    "test_x[\"Arrival Delay in Minutes\"] = test_x[\"Arrival Delay in Minutes\"].fillna(-9999)\n",
    "# print(training_x[\"Arrival Delay in Minutes\"].describe())\n",
    "print(training.head())\n",
    "# Change was not significant to modify statistics "
   ]
  },
  {
   "cell_type": "code",
   "execution_count": 59,
   "metadata": {},
   "outputs": [
    {
     "name": "stdout",
     "output_type": "stream",
     "text": [
      "             Gender  Customer Type           Age  Type of Travel  \\\n",
      "count  25976.000000   25976.000000  25976.000000    25976.000000   \n",
      "mean       0.492917       0.184747     39.620958        0.305590   \n",
      "std        0.499959       0.388100     15.135685        0.460666   \n",
      "min        0.000000       0.000000      7.000000        0.000000   \n",
      "25%        0.000000       0.000000     27.000000        0.000000   \n",
      "50%        0.000000       0.000000     40.000000        0.000000   \n",
      "75%        1.000000       0.000000     51.000000        1.000000   \n",
      "max        1.000000       1.000000     85.000000        1.000000   \n",
      "\n",
      "              Class  Flight Distance  Inflight wifi service  \\\n",
      "count  25976.000000     25976.000000           25976.000000   \n",
      "mean       0.592778      1193.788459               2.724746   \n",
      "std        0.623703       998.683999               1.335384   \n",
      "min        0.000000        31.000000               0.000000   \n",
      "25%        0.000000       414.000000               2.000000   \n",
      "50%        1.000000       849.000000               3.000000   \n",
      "75%        1.000000      1744.000000               4.000000   \n",
      "max        2.000000      4983.000000               5.000000   \n",
      "\n",
      "       Departure/Arrival time convenient  Ease of Online booking  \\\n",
      "count                       25976.000000            25976.000000   \n",
      "mean                            3.046812                2.756775   \n",
      "std                             1.533371                1.412951   \n",
      "min                             0.000000                0.000000   \n",
      "25%                             2.000000                2.000000   \n",
      "50%                             3.000000                3.000000   \n",
      "75%                             4.000000                4.000000   \n",
      "max                             5.000000                5.000000   \n",
      "\n",
      "       Gate location  ...  Inflight entertainment  On-board service  \\\n",
      "count   25976.000000  ...            25976.000000      25976.000000   \n",
      "mean        2.977094  ...                3.357753          3.385664   \n",
      "std         1.282133  ...                1.338299          1.282088   \n",
      "min         1.000000  ...                0.000000          0.000000   \n",
      "25%         2.000000  ...                2.000000          2.000000   \n",
      "50%         3.000000  ...                4.000000          4.000000   \n",
      "75%         4.000000  ...                4.000000          4.000000   \n",
      "max         5.000000  ...                5.000000          5.000000   \n",
      "\n",
      "       Leg room service  Baggage handling  Checkin service  Inflight service  \\\n",
      "count      25976.000000      25976.000000     25976.000000      25976.000000   \n",
      "mean           3.350169          3.633238         3.314175          3.649253   \n",
      "std            1.318862          1.176525         1.269332          1.180681   \n",
      "min            0.000000          1.000000         1.000000          0.000000   \n",
      "25%            2.000000          3.000000         3.000000          3.000000   \n",
      "50%            4.000000          4.000000         3.000000          4.000000   \n",
      "75%            4.000000          5.000000         4.000000          5.000000   \n",
      "max            5.000000          5.000000         5.000000          5.000000   \n",
      "\n",
      "        Cleanliness  Departure Delay in Minutes  Arrival Delay in Minutes  \\\n",
      "count  25976.000000                 25976.00000              25893.000000   \n",
      "mean       3.286226                    14.30609                 14.740857   \n",
      "std        1.319330                    37.42316                 37.517539   \n",
      "min        0.000000                     0.00000                  0.000000   \n",
      "25%        2.000000                     0.00000                  0.000000   \n",
      "50%        3.000000                     0.00000                  0.000000   \n",
      "75%        4.000000                    12.00000                 13.000000   \n",
      "max        5.000000                  1128.00000               1115.000000   \n",
      "\n",
      "       satisfaction  \n",
      "count  25976.000000  \n",
      "mean       0.438982  \n",
      "std        0.496272  \n",
      "min        0.000000  \n",
      "25%        0.000000  \n",
      "50%        0.000000  \n",
      "75%        1.000000  \n",
      "max        1.000000  \n",
      "\n",
      "[8 rows x 23 columns]\n"
     ]
    }
   ],
   "source": [
    "print(training.describe())"
   ]
  },
  {
   "cell_type": "markdown",
   "metadata": {},
   "source": [
    "<h1> Model (Pre-Training)"
   ]
  },
  {
   "cell_type": "code",
   "execution_count": 64,
   "metadata": {},
   "outputs": [],
   "source": [
    "clf1 = SGDClassifier(loss=\"squared_error\", random_state=1)\n",
    "clf2 = RandomForestClassifier(n_estimators=100, random_state=1,max_depth=21)"
   ]
  },
  {
   "cell_type": "markdown",
   "metadata": {},
   "source": [
    "<h1> Voting using Sci-kit Learn "
   ]
  },
  {
   "cell_type": "code",
   "execution_count": 65,
   "metadata": {},
   "outputs": [
    {
     "name": "stderr",
     "output_type": "stream",
     "text": [
      "c:\\Users\\chanj\\anaconda3\\envs\\tf2\\lib\\site-packages\\sklearn\\preprocessing\\_label.py:98: DataConversionWarning: A column-vector y was passed when a 1d array was expected. Please change the shape of y to (n_samples, ), for example using ravel().\n",
      "  y = column_or_1d(y, warn=True)\n",
      "c:\\Users\\chanj\\anaconda3\\envs\\tf2\\lib\\site-packages\\sklearn\\preprocessing\\_label.py:133: DataConversionWarning: A column-vector y was passed when a 1d array was expected. Please change the shape of y to (n_samples, ), for example using ravel().\n",
      "  y = column_or_1d(y, warn=True)\n"
     ]
    }
   ],
   "source": [
    "eclf1 = VotingClassifier(estimators=[\n",
    "        ('SGD', clf1), ('Random Forest', clf2)], voting='hard')\n",
    "eclf1 = eclf1.fit(training_x, training_y)"
   ]
  },
  {
   "cell_type": "markdown",
   "metadata": {},
   "source": [
    "<h1>Scoring</h1>\n"
   ]
  },
  {
   "cell_type": "code",
   "execution_count": 66,
   "metadata": {},
   "outputs": [
    {
     "data": {
      "text/plain": [
       "array([0.85880077, 0.94431971, 0.9107308 , 0.93530997, 0.95174561])"
      ]
     },
     "execution_count": 66,
     "metadata": {},
     "output_type": "execute_result"
    }
   ],
   "source": [
    "cross_val_score(eclf1, test_x, test_y, cv=5, scoring='f1', n_jobs=-1)\n"
   ]
  }
 ],
 "metadata": {
  "kernelspec": {
   "display_name": "Python 3.8.0",
   "language": "python",
   "name": "python3"
  },
  "language_info": {
   "codemirror_mode": {
    "name": "ipython",
    "version": 3
   },
   "file_extension": ".py",
   "mimetype": "text/x-python",
   "name": "python",
   "nbconvert_exporter": "python",
   "pygments_lexer": "ipython3",
   "version": "3.8.0"
  },
  "orig_nbformat": 4,
  "vscode": {
   "interpreter": {
    "hash": "1728f6dd41e46950d07c82c0af3e459d2e0b3428a8115dd84cb9a5e8fe286c2e"
   }
  }
 },
 "nbformat": 4,
 "nbformat_minor": 2
}
