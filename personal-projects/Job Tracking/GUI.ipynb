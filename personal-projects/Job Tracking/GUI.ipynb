{
 "cells": [
  {
   "cell_type": "markdown",
   "metadata": {},
   "source": [
    "<h1>Libraries</h1>\n",
    "pandas 1.5.2\n",
    "\n",
    "tkinter 8.6\n",
    "\n",
    "openpyxl 3.1.2\n",
    "\n",
    "<h3>To install libraries</h3>\n",
    "\n",
    "run \"pip install -r requirement.txt\"\n"
   ]
  },
  {
   "cell_type": "markdown",
   "metadata": {},
   "source": [
    "<h1>Sample Entry to GUI</h1>\n",
    "\n",
    "\n",
    "| Company (Mandatory) | Role (Mandatory) | Job ID | Date Applied | Location | Job Decision | Connection Status | Job Description | Notes | Contact Person (Mandatory) | LinkedIn Message | Link | Posting Search Keywords Used | Manager Keywords Used |\n",
    "| ------------------ | ---------------- | ------ | ------------ | -------- | ------------ | ----------------- | ---------------- | ----- | ------------------------- | ----------------- | ---- | ---------------------------- | --------------------- |\n",
    "| Stripe | Software Engineer, Growth Data Engineering | 4977145 | Jun 1 | Remote Canada | Applied | Accepted Request, No Reply |  |  | Nick Bilozerov | \"Hi Nick Bilozerov, I see that you and your team are hiring a Software Engineer, Growth Data Engineering (4977145) - I’m interested and recently applied. Upon connecting, I’d like to ask you a few questions to better understand the role and your requirements. About Me: BEng Software Engineering Experience with Python, SQL & AWS\" | [Link](https://stripe.com/jobs/listing/software-engineer-growth-data-engineering/4977145?gh_src=73vnei) | database; engineer; python; | stripe; Growth Data Engineering |\n",
    "\n"
   ]
  },
  {
   "cell_type": "markdown",
   "metadata": {},
   "source": [
    "<h1>Making Changes to the Columns</h1>\n",
    "\n",
    "Whatever columns are added or removed to the Excel sheet will dictate the columns for the entire dataset"
   ]
  },
  {
   "cell_type": "code",
   "execution_count": 1,
   "metadata": {},
   "outputs": [],
   "source": [
    "import tkinter as tk\n",
    "import pandas as pd\n",
    "import time\n",
    "from collections import Counter"
   ]
  },
  {
   "cell_type": "code",
   "execution_count": 2,
   "metadata": {},
   "outputs": [],
   "source": [
    "filePath = \"C:\\\\Users\\\\chanj\\\\Desktop\\\\Work\\\\Applications.xlsx\"\n",
    "sheet = pd.read_excel(filePath)\n"
   ]
  },
  {
   "cell_type": "code",
   "execution_count": 3,
   "metadata": {},
   "outputs": [
    {
     "name": "stdout",
     "output_type": "stream",
     "text": [
      "Saved in Excel:\n",
      "________________________\n",
      "Hi ,\n",
      "I see that you and your team are hiring a Analyste-Programmeur SQL Marketing (R138283) - I'm interested and recently applied.\n",
      "Upon connecting, I'd like to ask you a few questions to better understand the role and your requirements.About Me:\n",
      "\n",
      "BEng Software Engineering\n",
      "Experience with Python, SQL & AWS\n",
      "\n",
      "____Alternative if you are unsure if the role reports to this person__________\n",
      "Hi ,\n",
      "I see that Intact is hiring a Analyste-Programmeur SQL Marketing (R138283) - I'm interested and recently applied.\n",
      "Upon connecting, I'd like to ask you a few questions to better understand the role and its requirements.About Me:\n",
      "\n",
      "BEng Software Engineering\n",
      "Experience with Python, SQL & AWS\n",
      "Saved in Excel:\n",
      "________________________\n",
      "Hi ,\n",
      "I see that you and your team are hiring a GRADUATE LEADERSHIP PROGRAM () - I'm interested and recently applied.\n",
      "Upon connecting, I'd like to ask you a few questions to better understand the role and your requirements.About Me:\n",
      "\n",
      "BEng Software Engineering\n",
      "Experience with Python, SQL & AWS\n",
      "\n",
      "____Alternative if you are unsure if the role reports to this person__________\n",
      "Hi ,\n",
      "I see that Protech Group is hiring a GRADUATE LEADERSHIP PROGRAM () - I'm interested and recently applied.\n",
      "Upon connecting, I'd like to ask you a few questions to better understand the role and its requirements.About Me:\n",
      "\n",
      "BEng Software Engineering\n",
      "Experience with Python, SQL & AWS\n"
     ]
    }
   ],
   "source": [
    "global additions_delta\n",
    "additions_delta = []\n",
    "\n",
    "def clear_entries():\n",
    "    for widget in entries:\n",
    "        if isinstance(widget, tk.Entry):\n",
    "            widget.delete(0, tk.END)\n",
    "        elif isinstance(widget, tk.Text):\n",
    "            widget.delete(\"1.0\", tk.END)\n",
    "\n",
    "def submit_entries():\n",
    "    \n",
    "\n",
    "    values = []\n",
    "    for widget in entries:\n",
    "        if isinstance(widget, tk.Entry):\n",
    "            value = widget.get()\n",
    "        elif isinstance(widget, tk.Text):\n",
    "            value = widget.get(\"1.0\", tk.END).strip()\n",
    "        else:\n",
    "            value = \"\"\n",
    "        values.append(value)\n",
    "    blanks = {\"NameOfPerson\": values[10], \"Role\":values[1], \"JobID\": values[3],\"Company\": values[0], \"LinkedIn Message\": values[11]}\n",
    "    skills = f\"\\nBEng Software Engineering\\nExperience with Python, SQL & AWS\" \n",
    "    #be sure to use f-strings\n",
    "    \n",
    "    #storing the \"LinkedIn Message\"\n",
    "    values[11] = f\"Hi {blanks.get('NameOfPerson')},\\nI see that you and your team are hiring a {blanks.get('Role')} ({blanks.get('JobID')}) - I'm interested and recently applied.\\nUpon connecting, I'd like to ask you a few questions to better understand the role and your requirements.About Me:\\n{skills}\"\n",
    "    alternative_messgae = f\"Hi {blanks.get('NameOfPerson')},\\nI see that {blanks.get('Company')} is hiring a {blanks.get('Role')} ({blanks.get('JobID')}) - I'm interested and recently applied.\\nUpon connecting, I'd like to ask you a few questions to better understand the role and its requirements.About Me:\\n{skills}\"\n",
    "    \n",
    "    print(f\"Saved in Excel:\\n________________________\\n{values[11]}\\n\\n____Alternative if you are unsure if the role reports to this person__________\\n{alternative_messgae}\")  # You can modify this to process the entered values as needed\n",
    "    additions_delta.append(values)\n",
    "    clear_entries()\n",
    "\n",
    "\n",
    "root = tk.Tk()\n",
    "width = int(root.winfo_screenwidth()/3)  # Set the desired width in pixels\n",
    "height = int(root.winfo_screenheight()*0.7)  # Set the desired height in pixels\n",
    "root.geometry(f\"{width}x{height}\")\n",
    "root.title(\"Job Posting Entries\")\n",
    "\n",
    "# Create a list to hold the entry widgets\n",
    "entries = []\n",
    "large_textbox = [\"Job Description\"]\n",
    "# Create text entry fields with custom label names\n",
    "for label_name in list(sheet.columns):\n",
    "    label = tk.Label(root, text=label_name)\n",
    "    label.pack()\n",
    "    if label_name in large_textbox:\n",
    "        entry_width = int(width/10)  # Set the desired width in characters\n",
    "        entry_height = int(height/100)\n",
    "        entry = tk.Text(root, width=entry_width, height=entry_height)\n",
    "        entry.pack()\n",
    "        entry.insert(tk.END, \"\") \n",
    "    else:\n",
    "        entry = tk.Entry(root)\n",
    "        entry.pack()\n",
    "        entry.insert(0, \"\") \n",
    "    entries.append(entry)\n",
    "\n",
    "# Create a button to submit the entries\n",
    "submit_button = tk.Button(root, text=\"Submit\", command=submit_entries)\n",
    "submit_button.pack()\n",
    "# Create a button to clear the entries\n",
    "clear_button = tk.Button(root, text=\"Clear\", command=clear_entries)\n",
    "clear_button.pack()\n",
    "\n",
    "root.mainloop()\n",
    "\n",
    "newDF = pd.DataFrame(additions_delta, index=[list(range(len(sheet),len(sheet)+len(additions_delta)))], columns=list(sheet))\n",
    "sheet = pd.concat([sheet,newDF])\n",
    "\n",
    "saved = False\n",
    "while(not saved):\n",
    "    try:\n",
    "        sheet.to_excel(filePath, index=False)\n",
    "        saved = True # redundancy\n",
    "        break\n",
    "    except PermissionError:\n",
    "        print(\"File is open, Save and Close file before continuing within the next 10 seconds\")\n",
    "        time.sleep(10)"
   ]
  },
  {
   "cell_type": "markdown",
   "metadata": {},
   "source": [
    "<h1>Company List</h1>"
   ]
  },
  {
   "cell_type": "code",
   "execution_count": null,
   "metadata": {},
   "outputs": [],
   "source": [
    "companyListFilePath = \"C:\\\\Users\\\\chanj\\\\Desktop\\\\Work\\\\Company List.xlsx\"\n",
    "companyListSheet = pd.read_excel(companyListFilePath, header=0)\n",
    "saved = False\n",
    "while(not saved):\n",
    "    try:\n",
    "        pd.concat([companyListSheet,pd.DataFrame([ newDFcompany for newDFcompany in newDF[\"Company (Mandatory)\"].unique() if newDFcompany not in companyListSheet[\"Company\"].unique()], columns=[\"Company\"])]).to_excel(companyListFilePath, index=False)\n",
    "        saved = True # redundancy\n",
    "        break\n",
    "    except PermissionError:\n",
    "        print(\"File is open, Save and Close file before continuing within the next 10 seconds\")\n",
    "        time.sleep(10)"
   ]
  },
  {
   "cell_type": "markdown",
   "metadata": {},
   "source": [
    "<h1>Breakdown</h1>"
   ]
  },
  {
   "cell_type": "code",
   "execution_count": null,
   "metadata": {},
   "outputs": [],
   "source": [
    "# from nltk.corpus import stopwords\n",
    "# enStop = stopwords.words('english')\n",
    "# frStop = stopwords.words('french')\n",
    "# additional_stop = [\"and\"]\n",
    "# sheet['Job Description No Stop Words'] = sheet['Job Description'].apply(lambda x: ' '.join([word for word in str(x).split() if word not in (enStop) and word not in (frStop) and word not in (additional_stop)]))\n",
    "\n",
    "# saved = False\n",
    "# while(not saved):\n",
    "#     try:\n",
    "#         sheet.to_excel(filePath, index=False)\n",
    "#         saved = True # redundancy\n",
    "#         break\n",
    "#     except PermissionError:\n",
    "#         print(\"File is open, Save and Close file before continuing within the next 10 seconds\")\n",
    "#         time.sleep(10)\n"
   ]
  },
  {
   "cell_type": "code",
   "execution_count": null,
   "metadata": {},
   "outputs": [],
   "source": [
    "# # sheet.columns\n",
    "# word_frequencies = {}\n",
    "# for role, group in sheet.groupby('Target Role (Mandatory)'):\n",
    "#     descriptions = group['Job Description'].fillna('').astype(str).str.lower().str.split()\n",
    "#     word_count = Counter([word for sublist in descriptions for word in sublist])\n",
    "#     word_frequencies[role] = word_count\n",
    "\n",
    "# # Print the word frequencies by Role (Mandatory)\n",
    "# for role, frequencies in word_frequencies.items():\n",
    "#     print(f\"Role: {role}\")\n",
    "#     print(frequencies)\n",
    "#     print()"
   ]
  }
 ],
 "metadata": {
  "kernelspec": {
   "display_name": "Python 3.10.10 64-bit (microsoft store)",
   "language": "python",
   "name": "python3"
  },
  "language_info": {
   "codemirror_mode": {
    "name": "ipython",
    "version": 3
   },
   "file_extension": ".py",
   "mimetype": "text/x-python",
   "name": "python",
   "nbconvert_exporter": "python",
   "pygments_lexer": "ipython3",
   "version": "3.10.10"
  },
  "orig_nbformat": 4,
  "vscode": {
   "interpreter": {
    "hash": "13809f5fbb2c71687ac0fbc02129e4c89f53832ed2f3a101566dd09001991f6b"
   }
  }
 },
 "nbformat": 4,
 "nbformat_minor": 2
}
